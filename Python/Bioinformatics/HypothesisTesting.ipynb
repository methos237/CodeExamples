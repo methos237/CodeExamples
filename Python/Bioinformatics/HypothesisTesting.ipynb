{
 "cells": [
  {
   "cell_type": "markdown",
   "metadata": {},
   "source": [
    "James Knox Polk\n",
    "\n",
    "Assignment 5\n",
    "\n",
    "CSC 571-01 Bioinformatics, Spring 2019, UNCG, Dr. Manda\n",
    "\n",
    "1. The null hypotheses are that there is no statistically significant difference between the mean Machine and mean Human SimJ scores, and no statistically significant difference between the mean Machine and mean Human NIC scores.\n",
    "\n",
    "2. To test the hypotheses, I will use a Paired Two-tailed T-Test for each pair of scores."
   ]
  },
  {
   "cell_type": "code",
   "execution_count": 5,
   "metadata": {},
   "outputs": [
    {
     "name": "stdout",
     "output_type": "stream",
     "text": [
      "Descriptive Statistics by Column:\n"
     ]
    },
    {
     "data": {
      "text/html": [
       "<div>\n",
       "<style scoped>\n",
       "    .dataframe tbody tr th:only-of-type {\n",
       "        vertical-align: middle;\n",
       "    }\n",
       "\n",
       "    .dataframe tbody tr th {\n",
       "        vertical-align: top;\n",
       "    }\n",
       "\n",
       "    .dataframe thead th {\n",
       "        text-align: right;\n",
       "    }\n",
       "</style>\n",
       "<table border=\"1\" class=\"dataframe\">\n",
       "  <thead>\n",
       "    <tr style=\"text-align: right;\">\n",
       "      <th></th>\n",
       "      <th>Character Number</th>\n",
       "      <th>SimJ Score MACHINE</th>\n",
       "      <th>NIC Score MACHINE</th>\n",
       "      <th>SimJ Score HUMAN</th>\n",
       "      <th>NIC Score HUMAN</th>\n",
       "    </tr>\n",
       "  </thead>\n",
       "  <tbody>\n",
       "    <tr>\n",
       "      <th>count</th>\n",
       "      <td>463.000000</td>\n",
       "      <td>463.000000</td>\n",
       "      <td>463.000000</td>\n",
       "      <td>463.000000</td>\n",
       "      <td>463.000000</td>\n",
       "    </tr>\n",
       "    <tr>\n",
       "      <th>mean</th>\n",
       "      <td>101.438445</td>\n",
       "      <td>0.275789</td>\n",
       "      <td>0.429022</td>\n",
       "      <td>0.732138</td>\n",
       "      <td>0.864865</td>\n",
       "    </tr>\n",
       "    <tr>\n",
       "      <th>std</th>\n",
       "      <td>59.252377</td>\n",
       "      <td>0.396740</td>\n",
       "      <td>0.388360</td>\n",
       "      <td>0.336095</td>\n",
       "      <td>0.133516</td>\n",
       "    </tr>\n",
       "    <tr>\n",
       "      <th>min</th>\n",
       "      <td>1.000000</td>\n",
       "      <td>0.000000</td>\n",
       "      <td>0.000000</td>\n",
       "      <td>0.000000</td>\n",
       "      <td>0.000000</td>\n",
       "    </tr>\n",
       "    <tr>\n",
       "      <th>25%</th>\n",
       "      <td>49.000000</td>\n",
       "      <td>0.000000</td>\n",
       "      <td>0.000000</td>\n",
       "      <td>0.486722</td>\n",
       "      <td>0.855878</td>\n",
       "    </tr>\n",
       "    <tr>\n",
       "      <th>50%</th>\n",
       "      <td>101.000000</td>\n",
       "      <td>0.002392</td>\n",
       "      <td>0.563514</td>\n",
       "      <td>0.961538</td>\n",
       "      <td>0.893731</td>\n",
       "    </tr>\n",
       "    <tr>\n",
       "      <th>75%</th>\n",
       "      <td>152.000000</td>\n",
       "      <td>0.476923</td>\n",
       "      <td>0.833735</td>\n",
       "      <td>1.000000</td>\n",
       "      <td>0.924293</td>\n",
       "    </tr>\n",
       "    <tr>\n",
       "      <th>max</th>\n",
       "      <td>203.000000</td>\n",
       "      <td>1.000000</td>\n",
       "      <td>0.924293</td>\n",
       "      <td>1.000000</td>\n",
       "      <td>0.962146</td>\n",
       "    </tr>\n",
       "  </tbody>\n",
       "</table>\n",
       "</div>"
      ],
      "text/plain": [
       "       Character Number  SimJ Score MACHINE  NIC Score MACHINE  \\\n",
       "count        463.000000          463.000000         463.000000   \n",
       "mean         101.438445            0.275789           0.429022   \n",
       "std           59.252377            0.396740           0.388360   \n",
       "min            1.000000            0.000000           0.000000   \n",
       "25%           49.000000            0.000000           0.000000   \n",
       "50%          101.000000            0.002392           0.563514   \n",
       "75%          152.000000            0.476923           0.833735   \n",
       "max          203.000000            1.000000           0.924293   \n",
       "\n",
       "       SimJ Score HUMAN  NIC Score HUMAN  \n",
       "count        463.000000       463.000000  \n",
       "mean           0.732138         0.864865  \n",
       "std            0.336095         0.133516  \n",
       "min            0.000000         0.000000  \n",
       "25%            0.486722         0.855878  \n",
       "50%            0.961538         0.893731  \n",
       "75%            1.000000         0.924293  \n",
       "max            1.000000         0.962146  "
      ]
     },
     "metadata": {},
     "output_type": "display_data"
    }
   ],
   "source": [
    "# import pandas as pd\n",
    "import scipy.stats as ss\n",
    "import pingouin as pg\n",
    "from IPython.display import display\n",
    "\n",
    "\n",
    "file = 'SemanticSimilarityScores.tsv'\n",
    "pd.set_option('display.max_columns', None)\n",
    "\n",
    "df = pd.read_csv(file, sep='\\t', header=0)\n",
    "# Descriptive statistics for each column\n",
    "print('Descriptive Statistics by Column:')\n",
    "display(df.describe())\n"
   ]
  },
  {
   "cell_type": "code",
   "execution_count": 6,
   "metadata": {},
   "outputs": [
    {
     "name": "stdout",
     "output_type": "stream",
     "text": [
      "Paired Two-tailed T-Test Result between SimJ Score Machine and SimJ Score Human:\n"
     ]
    },
    {
     "data": {
      "text/html": [
       "<div>\n",
       "<style scoped>\n",
       "    .dataframe tbody tr th:only-of-type {\n",
       "        vertical-align: middle;\n",
       "    }\n",
       "\n",
       "    .dataframe tbody tr th {\n",
       "        vertical-align: top;\n",
       "    }\n",
       "\n",
       "    .dataframe thead th {\n",
       "        text-align: right;\n",
       "    }\n",
       "</style>\n",
       "<table border=\"1\" class=\"dataframe\">\n",
       "  <thead>\n",
       "    <tr style=\"text-align: right;\">\n",
       "      <th></th>\n",
       "      <th>T</th>\n",
       "      <th>p-val</th>\n",
       "      <th>dof</th>\n",
       "      <th>tail</th>\n",
       "      <th>cohen-d</th>\n",
       "      <th>power</th>\n",
       "      <th>BF10</th>\n",
       "    </tr>\n",
       "  </thead>\n",
       "  <tbody>\n",
       "    <tr>\n",
       "      <th>T-test</th>\n",
       "      <td>-22.822</td>\n",
       "      <td>9.429118e-78</td>\n",
       "      <td>462</td>\n",
       "      <td>two-sided</td>\n",
       "      <td>1.245</td>\n",
       "      <td>1.0</td>\n",
       "      <td>1.273322e+74</td>\n",
       "    </tr>\n",
       "  </tbody>\n",
       "</table>\n",
       "</div>"
      ],
      "text/plain": [
       "             T         p-val  dof       tail  cohen-d  power          BF10\n",
       "T-test -22.822  9.429118e-78  462  two-sided    1.245    1.0  1.273322e+74"
      ]
     },
     "metadata": {},
     "output_type": "display_data"
    },
    {
     "name": "stdout",
     "output_type": "stream",
     "text": [
      "The mean SimJ score of the Text Mining tool is statistically significant different than the mean human SimJ score.\n"
     ]
    }
   ],
   "source": [
    "simj_machine = df['SimJ Score MACHINE']\n",
    "simj_human = df['SimJ Score HUMAN']\n",
    "nic_machine = df['NIC Score MACHINE']\n",
    "nic_human = df['NIC Score HUMAN']\n",
    "alpha = 1e-3\n",
    "\n",
    "print('Paired Two-tailed T-Test Result between SimJ Score Machine and SimJ Score Human:')\n",
    "ttest1 = pg.ttest(simj_machine, simj_human, paired=True)\n",
    "\n",
    "display(ttest1)\n",
    "\n",
    "if alpha < ttest1.iloc[0]['p-val']:\n",
    "    print('The mean SimJ score of the Text Mining tool is not statistically significant different than the mean human SimJ score.')\n",
    "else:\n",
    "    print('The mean SimJ score of the Text Mining tool is statistically significant different than the mean human SimJ score.')\n"
   ]
  },
  {
   "cell_type": "code",
   "execution_count": 7,
   "metadata": {},
   "outputs": [
    {
     "name": "stdout",
     "output_type": "stream",
     "text": [
      "Paired Two-tailed T-Test Result between NIC Score Machine and NIC Score Human:\n"
     ]
    },
    {
     "data": {
      "text/html": [
       "<div>\n",
       "<style scoped>\n",
       "    .dataframe tbody tr th:only-of-type {\n",
       "        vertical-align: middle;\n",
       "    }\n",
       "\n",
       "    .dataframe tbody tr th {\n",
       "        vertical-align: top;\n",
       "    }\n",
       "\n",
       "    .dataframe thead th {\n",
       "        text-align: right;\n",
       "    }\n",
       "</style>\n",
       "<table border=\"1\" class=\"dataframe\">\n",
       "  <thead>\n",
       "    <tr style=\"text-align: right;\">\n",
       "      <th></th>\n",
       "      <th>T</th>\n",
       "      <th>p-val</th>\n",
       "      <th>dof</th>\n",
       "      <th>tail</th>\n",
       "      <th>cohen-d</th>\n",
       "      <th>power</th>\n",
       "      <th>BF10</th>\n",
       "    </tr>\n",
       "  </thead>\n",
       "  <tbody>\n",
       "    <tr>\n",
       "      <th>T-test</th>\n",
       "      <td>-23.102</td>\n",
       "      <td>4.645555e-79</td>\n",
       "      <td>462</td>\n",
       "      <td>two-sided</td>\n",
       "      <td>1.67</td>\n",
       "      <td>1.0</td>\n",
       "      <td>2.543188e+75</td>\n",
       "    </tr>\n",
       "  </tbody>\n",
       "</table>\n",
       "</div>"
      ],
      "text/plain": [
       "             T         p-val  dof       tail  cohen-d  power          BF10\n",
       "T-test -23.102  4.645555e-79  462  two-sided     1.67    1.0  2.543188e+75"
      ]
     },
     "metadata": {},
     "output_type": "display_data"
    },
    {
     "name": "stdout",
     "output_type": "stream",
     "text": [
      "The mean NIC score of the Text Mining tool is statistically significant different than the mean human NIC score.\n"
     ]
    }
   ],
   "source": [
    "print('Paired Two-tailed T-Test Result between NIC Score Machine and NIC Score Human:')\n",
    "ttest2 = pg.ttest(nic_machine, nic_human, paired=True)\n",
    "\n",
    "display(ttest2)\n",
    "\n",
    "if alpha < ttest2.iloc[0]['p-val']:\n",
    "    print('The mean NIC score of the Text Mining tool is not statistically significant different than the mean human NIC score.')\n",
    "else:\n",
    "    print('The mean NIC score of the Text Mining tool is statistically significant different than the mean human NIC score.')\n"
   ]
  },
  {
   "cell_type": "markdown",
   "metadata": {},
   "source": [
    "5. The two T-Tests both showed statistically significant differences between the mean MACHINE and the mean HUMAN scores for both SimJ and NIC with both p-values being <0.00001.  As such, the null hypotheses have proven false.  Furthermore, with a Bayes Factors(BF10) > 1000, there is extreme evidence for the significant differences.  Based on the negative T-values for both tests, we can conclude that the mean MACHINE scores are statistically significantly lower than the mean HUMAN scores for both SimJ and NIC."
   ]
  },
  {
   "cell_type": "code",
   "execution_count": null,
   "metadata": {},
   "outputs": [],
   "source": []
  }
 ],
 "metadata": {
  "kernelspec": {
   "display_name": "Python 3",
   "language": "python",
   "name": "python3"
  },
  "language_info": {
   "codemirror_mode": {
    "name": "ipython",
    "version": 3
   },
   "file_extension": ".py",
   "mimetype": "text/x-python",
   "name": "python",
   "nbconvert_exporter": "python",
   "pygments_lexer": "ipython3",
   "version": "3.7.2"
  }
 },
 "nbformat": 4,
 "nbformat_minor": 2
}
